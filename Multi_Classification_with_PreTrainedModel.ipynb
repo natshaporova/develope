{
  "nbformat": 4,
  "nbformat_minor": 0,
  "metadata": {
    "colab": {
      "provenance": [],
      "authorship_tag": "ABX9TyO2F0NTOT5T3cxUD/751Ls8",
      "include_colab_link": true
    },
    "kernelspec": {
      "name": "python3",
      "display_name": "Python 3"
    },
    "language_info": {
      "name": "python"
    },
    "accelerator": "TPU",
    "gpuClass": "standard"
  },
  "cells": [
    {
      "cell_type": "markdown",
      "metadata": {
        "id": "view-in-github",
        "colab_type": "text"
      },
      "source": [
        "<a href=\"https://colab.research.google.com/github/natshaporova/develope/blob/main/Multi_Classification_with_PreTrainedModel.ipynb\" target=\"_parent\"><img src=\"https://colab.research.google.com/assets/colab-badge.svg\" alt=\"Open In Colab\"/></a>"
      ]
    },
    {
      "cell_type": "markdown",
      "source": [
        "## Multiclass image classification with Tensorflow transfer learning (InceptionV3) "
      ],
      "metadata": {
        "id": "sERLwI71Bu4B"
      }
    },
    {
      "cell_type": "markdown",
      "source": [
        "**resources:**\n",
        "https://github.com/tensorflow/docs/blob/master/site/en/tutorials/images/transfer_learning.ipynb\n",
        "\n",
        "https://github.com/kennethleungty/TensorFlow-Transfer-Learning-Image-Classification\n",
        "\n",
        "**dataset:** \n",
        "https://www.kaggle.com/code/pavansanagapati/simple-tutorial-on-object-recognition/input"
      ],
      "metadata": {
        "id": "T15zsnARKIBG"
      }
    },
    {
      "cell_type": "code",
      "source": [
        "import os, sys, math\n",
        "import numpy as np\n",
        "from matplotlib import pyplot as plt\n",
        "import tensorflow as tf\n",
        "print(\"Tensorflow version \" + tf.__version__)\n",
        "AUTOTUNE = tf.data.AUTOTUNE\n",
        "import pathlib\n",
        "\n",
        "from tensorflow.keras.applications.inception_v3 import InceptionV3\n",
        "from tensorflow.keras.applications.inception_v3 import preprocess_input"
      ],
      "metadata": {
        "colab": {
          "base_uri": "https://localhost:8080/"
        },
        "id": "p9lzJG5nV55m",
        "outputId": "3eeba3af-bbc0-44ac-d26c-abe8009c0a76"
      },
      "execution_count": 38,
      "outputs": [
        {
          "output_type": "stream",
          "name": "stdout",
          "text": [
            "Tensorflow version 2.11.0\n"
          ]
        }
      ]
    },
    {
      "cell_type": "code",
      "source": [
        "from google.colab import drive\n",
        "drive.mount('/content/drive')"
      ],
      "metadata": {
        "id": "oiZRgNFANdm1",
        "colab": {
          "base_uri": "https://localhost:8080/"
        },
        "outputId": "4a68a97c-eee9-4830-ff09-4b837d115611"
      },
      "execution_count": 2,
      "outputs": [
        {
          "output_type": "stream",
          "name": "stdout",
          "text": [
            "Mounted at /content/drive\n"
          ]
        }
      ]
    },
    {
      "cell_type": "code",
      "source": [
        "proj_path = '/content/drive/My Drive/datasets/data'\n",
        "model_saving_path = '/content/drive/My Drive/models'\n",
        "data_dir_list = os.listdir(proj_path)\n",
        "data_dir_list"
      ],
      "metadata": {
        "colab": {
          "base_uri": "https://localhost:8080/"
        },
        "id": "Mn_Gr8TeH7C9",
        "outputId": "4400a2bd-c06b-42fa-b1c7-2a71938423dc"
      },
      "execution_count": 49,
      "outputs": [
        {
          "output_type": "execute_result",
          "data": {
            "text/plain": [
              "['cars', 'bike', 'cats', 'dogs', 'flowers', 'horses', 'human']"
            ]
          },
          "metadata": {},
          "execution_count": 49
        }
      ]
    },
    {
      "cell_type": "code",
      "source": [
        "#load dataset\n",
        "batch_size = 32\n",
        "#size of the image that is in dataset\n",
        "img_height = 128\n",
        "img_width = 128\n",
        "# img_size for model\n",
        "IMG_SIZE = 150\n",
        "\n",
        "#get correct path to the data_dir\n",
        "data_dir = pathlib.Path(proj_path).with_suffix('')\n",
        "\n",
        "#prepare the train set (80%)\n",
        "train_ds = tf.keras.utils.image_dataset_from_directory(\n",
        "  data_dir,\n",
        "  validation_split=0.2,\n",
        "  subset=\"training\",\n",
        "  seed=123,\n",
        "  image_size=(img_height, img_width),\n",
        "  batch_size=batch_size)"
      ],
      "metadata": {
        "colab": {
          "base_uri": "https://localhost:8080/"
        },
        "id": "Pv47Q0cTfnhS",
        "outputId": "fbf2e16f-2d17-4158-cb6b-db5e3ba89662"
      },
      "execution_count": 23,
      "outputs": [
        {
          "output_type": "stream",
          "name": "stdout",
          "text": [
            "Found 1803 files belonging to 7 classes.\n",
            "Using 1443 files for training.\n"
          ]
        }
      ]
    },
    {
      "cell_type": "code",
      "source": [
        "#preapare the validation set (20%)\n",
        "val_ds = tf.keras.utils.image_dataset_from_directory(\n",
        "  data_dir,\n",
        "  validation_split=0.2,\n",
        "  subset=\"validation\",\n",
        "  seed=123,\n",
        "  image_size=(img_height, img_width),\n",
        "  batch_size=batch_size)"
      ],
      "metadata": {
        "colab": {
          "base_uri": "https://localhost:8080/"
        },
        "id": "ULq6BITzgifb",
        "outputId": "1610a96e-eb3e-48b9-e385-19b199b34b5b"
      },
      "execution_count": 5,
      "outputs": [
        {
          "output_type": "stream",
          "name": "stdout",
          "text": [
            "Found 1803 files belonging to 7 classes.\n",
            "Using 360 files for validation.\n"
          ]
        }
      ]
    },
    {
      "cell_type": "code",
      "source": [
        "#try to create test dataset\n",
        "#in mathematics, the cardinality of a set is a measure of the number of elements of the set\n",
        "val_batches = tf.data.experimental.cardinality(val_ds)\n",
        "test_ds = val_ds.take(val_batches // 5)\n",
        "val_ds = val_ds.skip(val_batches // 5)"
      ],
      "metadata": {
        "id": "Zt3DOZKBg3th"
      },
      "execution_count": 6,
      "outputs": []
    },
    {
      "cell_type": "code",
      "source": [
        "#understanding dataset\n",
        "num_train_examples = tf.data.experimental.cardinality(train_ds).numpy()\n",
        "num_val_examples = tf.data.experimental.cardinality(val_ds).numpy()\n",
        "num_test_examples = tf.data.experimental.cardinality(test_ds).numpy()\n",
        "\n",
        "print('Number of training samples:', num_train_examples)\n",
        "print('Number of validation samples:', num_val_examples)\n",
        "print('Number of test samples:', num_test_examples)"
      ],
      "metadata": {
        "colab": {
          "base_uri": "https://localhost:8080/"
        },
        "id": "t2LUFIXGgol0",
        "outputId": "5d66c7c5-607f-4842-d540-ba9fa1e6b559"
      },
      "execution_count": 11,
      "outputs": [
        {
          "output_type": "stream",
          "name": "stdout",
          "text": [
            "Number of training samples: 46\n",
            "Number of validation samples: 12\n",
            "Number of test samples: 2\n"
          ]
        }
      ]
    },
    {
      "cell_type": "code",
      "source": [
        "for c,v in train_ds:\n",
        "  print(v.numpy())\n",
        "  break\n",
        "\n"
      ],
      "metadata": {
        "colab": {
          "base_uri": "https://localhost:8080/"
        },
        "id": "9qBTDof8jjJK",
        "outputId": "5612ccba-ce44-4a15-f630-25e57111760e"
      },
      "execution_count": 24,
      "outputs": [
        {
          "output_type": "stream",
          "name": "stdout",
          "text": [
            "[1 1 1 3 1 0 0 1 2 0 5 6 0 1 6 3 0 1 5 2 6 4 1 2 3 6 5 1 4 1 4 0]\n"
          ]
        }
      ]
    },
    {
      "cell_type": "code",
      "source": [
        "val_y = np.concatenate([y for x, y in val_ds], axis=0)"
      ],
      "metadata": {
        "id": "agnRFw0Rg9y0"
      },
      "execution_count": 17,
      "outputs": []
    },
    {
      "cell_type": "code",
      "source": [
        "print(len(val_y))\n"
      ],
      "metadata": {
        "colab": {
          "base_uri": "https://localhost:8080/"
        },
        "id": "pdN6nliIhTtw",
        "outputId": "9310f014-06b2-4664-ae15-bdf0d062cf1f"
      },
      "execution_count": 19,
      "outputs": [
        {
          "output_type": "stream",
          "name": "stdout",
          "text": [
            "296\n"
          ]
        }
      ]
    },
    {
      "cell_type": "code",
      "source": [
        "train_y = np.concatenate([y for x, y in train_ds], axis=0)\n"
      ],
      "metadata": {
        "id": "K3kFDwQAhkmu"
      },
      "execution_count": 25,
      "outputs": []
    },
    {
      "cell_type": "code",
      "source": [
        "len(train_y)"
      ],
      "metadata": {
        "colab": {
          "base_uri": "https://localhost:8080/"
        },
        "id": "oC-jZ4vukEim",
        "outputId": "a3db4c8b-065d-4963-bc63-31c163226307"
      },
      "execution_count": 26,
      "outputs": [
        {
          "output_type": "execute_result",
          "data": {
            "text/plain": [
              "1443"
            ]
          },
          "metadata": {},
          "execution_count": 26
        }
      ]
    },
    {
      "cell_type": "code",
      "source": [],
      "metadata": {
        "id": "KUiolSDglK6e"
      },
      "execution_count": null,
      "outputs": []
    },
    {
      "cell_type": "code",
      "source": [
        "plt.hist(train_y)\n",
        "plt.xticks(range(10))\n",
        "plt.title('train classes Frequency')\n",
        "plt.show()"
      ],
      "metadata": {
        "colab": {
          "base_uri": "https://localhost:8080/",
          "height": 281
        },
        "id": "jykrTGCNkXbg",
        "outputId": "73e96237-8658-4cd2-b227-4a10b6a756dd"
      },
      "execution_count": 29,
      "outputs": [
        {
          "output_type": "display_data",
          "data": {
            "text/plain": [
              "<Figure size 432x288 with 1 Axes>"
            ],
            "image/png": "[encoded data removed]"
          },
          "metadata": {
            "needs_background": "light"
          }
        }
      ]
    },
    {
      "cell_type": "code",
      "source": [
        "plt.hist(val_y)\n",
        "plt.xticks(range(10))\n",
        "plt.title('val classes Frequency')\n",
        "plt.show()"
      ],
      "metadata": {
        "colab": {
          "base_uri": "https://localhost:8080/",
          "height": 281
        },
        "id": "OsrCwtwck23v",
        "outputId": "52c139fd-862c-45ed-c867-695711a221f4"
      },
      "execution_count": 30,
      "outputs": [
        {
          "output_type": "display_data",
          "data": {
            "text/plain": [
              "<Figure size 432x288 with 1 Axes>"
            ],
            "image/png": "[encoded data removed]"
          },
          "metadata": {
            "needs_background": "light"
          }
        }
      ]
    },
    {
      "cell_type": "code",
      "source": [
        "unique, counts = np.unique(train_y, return_counts=True)\n",
        "print(dict(zip(unique, counts)))\n"
      ],
      "metadata": {
        "colab": {
          "base_uri": "https://localhost:8080/"
        },
        "id": "5kixLbRQlnr3",
        "outputId": "887920a4-53dc-4462-ebd4-1d4d693bcc27"
      },
      "execution_count": 32,
      "outputs": [
        {
          "output_type": "stream",
          "name": "stdout",
          "text": [
            "{0: 298, 1: 326, 2: 164, 3: 160, 4: 169, 5: 162, 6: 164}\n"
          ]
        }
      ]
    },
    {
      "cell_type": "markdown",
      "source": [
        "{0: 298,   1: 326, 2: 164, 3: 160,   4: 169,    5: 162,   6: 164}\n",
        "['cars', 'bike',    'cats', 'dogs', 'flowers', 'horses', 'human']"
      ],
      "metadata": {
        "id": "EmnEN3Wym17I"
      }
    },
    {
      "cell_type": "code",
      "source": [
        "#one hot encode\n",
        "num_classes = 7 \n",
        "def one_hot_encode(image, label):\n",
        "    label = tf.one_hot(label, num_classes)\n",
        "    return image, label"
      ],
      "metadata": {
        "id": "enlNJByNm1GE"
      },
      "execution_count": 33,
      "outputs": []
    },
    {
      "cell_type": "code",
      "source": [
        "#one_hot_encode for all datasets\n",
        "train_ds = train_ds.map(one_hot_encode)\n",
        "val_ds = val_ds.map(one_hot_encode)\n",
        "test_ds = test_ds.map(one_hot_encode)"
      ],
      "metadata": {
        "id": "2Ok7gsyzrrmI"
      },
      "execution_count": 34,
      "outputs": []
    },
    {
      "cell_type": "code",
      "source": [
        "#augmantation and resizing\n",
        "data_augmentation = tf.keras.Sequential([\n",
        "  tf.keras.layers.RandomFlip('horizontal'),\n",
        "  tf.keras.layers.RandomRotation(0.2),\n",
        "])\n",
        "resize = tf.keras.Sequential([\n",
        "  tf.keras.layers.Resizing(IMG_SIZE, IMG_SIZE),\n",
        "  #tf.keras.layers.Rescaling(1./255)\n",
        "])"
      ],
      "metadata": {
        "id": "qGgzIeCor7jm"
      },
      "execution_count": 35,
      "outputs": []
    },
    {
      "cell_type": "code",
      "source": [
        "train_ds=train_ds.map(lambda x, y: (resize(x), y))\n",
        "train_ds=train_ds.map(lambda x, y: (data_augmentation(x), y))\n",
        "train_ds=train_ds.map(lambda x, y: (preprocess_input(x), y))"
      ],
      "metadata": {
        "id": "0RWISnj8sULf"
      },
      "execution_count": null,
      "outputs": []
    },
    {
      "cell_type": "code",
      "source": [
        "val_ds=val_ds.map(lambda x, y: (resize(x), y))\n",
        "val_ds=val_ds.map(lambda x, y: (preprocess_input(x), y))"
      ],
      "metadata": {
        "id": "dHSJRJyrtRyL"
      },
      "execution_count": 40,
      "outputs": []
    },
    {
      "cell_type": "code",
      "source": [
        "test_ds=test_ds.map(lambda x, y: (resize(x), y))\n",
        "test_ds=test_ds.map(lambda x, y: (preprocess_input(x), y))"
      ],
      "metadata": {
        "id": "dxEts2CQtjD7"
      },
      "execution_count": 41,
      "outputs": []
    },
    {
      "cell_type": "code",
      "source": [
        "train_ds=train_ds.prefetch(tf.data.AUTOTUNE)\n",
        "val_ds = val_ds.prefetch(tf.data.AUTOTUNE)\n",
        "test_ds = test_ds.prefetch(tf.data.AUTOTUNE)"
      ],
      "metadata": {
        "id": "DVMelrJjtzq8"
      },
      "execution_count": 42,
      "outputs": []
    },
    {
      "cell_type": "code",
      "source": [
        "base_model = InceptionV3(input_shape=(150, 150, 3), weights='imagenet', include_top=False)"
      ],
      "metadata": {
        "colab": {
          "base_uri": "https://localhost:8080/"
        },
        "id": "Z5mTKazyuj41",
        "outputId": "8a795581-d8cb-4d06-fa62-713f55c12682"
      },
      "execution_count": 43,
      "outputs": [
        {
          "output_type": "stream",
          "name": "stdout",
          "text": [
            "Downloading data from https://storage.googleapis.com/tensorflow/keras-applications/inception_v3/inception_v3_weights_tf_dim_ordering_tf_kernels_notop.h5\n",
            "87910968/87910968 [==============================] - 1s 0us/step\n"
          ]
        }
      ]
    },
    {
      "cell_type": "code",
      "source": [
        "for layer in base_model.layers:\n",
        "  layer.trainable = False\n",
        "\n",
        "x = tf.keras.layers.Flatten()(base_model.output)\n",
        "prediction = tf.keras.layers.Dense(7, activation='softmax')(x)\n",
        "model = tf.keras.Model(base_model.input,prediction)"
      ],
      "metadata": {
        "id": "UBgSM5_Fuxof"
      },
      "execution_count": 44,
      "outputs": []
    },
    {
      "cell_type": "code",
      "source": [
        "model.compile(optimizer=tf.optimizers.Adam(learning_rate=1e-5),\n",
        "                  loss=tf.keras.losses.CategoricalCrossentropy(),\n",
        "                  metrics=['accuracy'])"
      ],
      "metadata": {
        "id": "s62Yzfw9u-sP"
      },
      "execution_count": 45,
      "outputs": []
    },
    {
      "cell_type": "code",
      "source": [
        "history = model.fit(train_ds,validation_data=val_ds,epochs=10)"
      ],
      "metadata": {
        "colab": {
          "base_uri": "https://localhost:8080/"
        },
        "id": "4t90eJWGvJPn",
        "outputId": "eeab20a2-1f71-4ba7-d45f-5e87e07bba18"
      },
      "execution_count": 46,
      "outputs": [
        {
          "output_type": "stream",
          "name": "stdout",
          "text": [
            "Epoch 1/10\n",
            "46/46 [==============================] - 117s 2s/step - loss: 2.7610 - accuracy: 0.2204 - val_loss: 2.0312 - val_accuracy: 0.3345\n",
            "Epoch 2/10\n",
            "46/46 [==============================] - 104s 2s/step - loss: 1.8777 - accuracy: 0.3791 - val_loss: 1.3463 - val_accuracy: 0.5743\n",
            "Epoch 3/10\n",
            "46/46 [==============================] - 96s 2s/step - loss: 1.3071 - accuracy: 0.5731 - val_loss: 1.0590 - val_accuracy: 0.6689\n",
            "Epoch 4/10\n",
            "46/46 [==============================] - 101s 2s/step - loss: 1.0857 - accuracy: 0.6389 - val_loss: 0.8872 - val_accuracy: 0.7095\n",
            "Epoch 5/10\n",
            "46/46 [==============================] - 101s 2s/step - loss: 0.8802 - accuracy: 0.7131 - val_loss: 0.7256 - val_accuracy: 0.7703\n",
            "Epoch 6/10\n",
            "46/46 [==============================] - 101s 2s/step - loss: 0.7739 - accuracy: 0.7443 - val_loss: 0.6495 - val_accuracy: 0.7973\n",
            "Epoch 7/10\n",
            "46/46 [==============================] - 101s 2s/step - loss: 0.7018 - accuracy: 0.7630 - val_loss: 0.6002 - val_accuracy: 0.8142\n",
            "Epoch 8/10\n",
            "46/46 [==============================] - 100s 2s/step - loss: 0.6420 - accuracy: 0.7893 - val_loss: 0.5295 - val_accuracy: 0.8345\n",
            "Epoch 9/10\n",
            "46/46 [==============================] - 98s 2s/step - loss: 0.6187 - accuracy: 0.7990 - val_loss: 0.5051 - val_accuracy: 0.8581\n",
            "Epoch 10/10\n",
            "46/46 [==============================] - 119s 3s/step - loss: 0.5207 - accuracy: 0.8323 - val_loss: 0.4410 - val_accuracy: 0.8716\n"
          ]
        }
      ]
    },
    {
      "cell_type": "code",
      "source": [
        "def plot_hist(hist):\n",
        "    plt.plot(hist.history['accuracy'])\n",
        "    plt.plot(hist.history['val_accuracy'])\n",
        "    plt.title('Categorical accuracy')\n",
        "    plt.ylabel('accuracy')\n",
        "    plt.xlabel('epoch')\n",
        "    plt.legend(['train', 'validation'], loc='upper left')\n",
        "    plt.show()\n",
        "\n",
        "plot_hist(history)"
      ],
      "metadata": {
        "colab": {
          "base_uri": "https://localhost:8080/",
          "height": 295
        },
        "id": "Ua2bDAm66CxC",
        "outputId": "4385affa-b8a3-421d-a45f-c640e9f9b67a"
      },
      "execution_count": 48,
      "outputs": [
        {
          "output_type": "display_data",
          "data": {
            "text/plain": [
              "<Figure size 432x288 with 1 Axes>"
            ],
            "image/png": "[encoded data removed]"
          },
          "metadata": {
            "needs_background": "light"
          }
        }
      ]
    },
    {
      "cell_type": "code",
      "source": [
        "model.save(f'{model_saving_path}/12.03.1/')"
      ],
      "metadata": {
        "colab": {
          "base_uri": "https://localhost:8080/"
        },
        "id": "y5V-YhUm66hh",
        "outputId": "2a93c197-9fb5-401b-f9ce-00d14c7ca86f"
      },
      "execution_count": 50,
      "outputs": [
        {
          "output_type": "stream",
          "name": "stderr",
          "text": [
            "WARNING:absl:Found untraced functions such as _jit_compiled_convolution_op, _jit_compiled_convolution_op, _jit_compiled_convolution_op, _jit_compiled_convolution_op, _jit_compiled_convolution_op while saving (showing 5 of 95). These functions will not be directly callable after loading.\n"
          ]
        }
      ]
    },
    {
      "cell_type": "code",
      "source": [
        "print(tf.data.experimental.cardinality(test_ds).numpy())"
      ],
      "metadata": {
        "colab": {
          "base_uri": "https://localhost:8080/"
        },
        "id": "Mst5BnUz89mC",
        "outputId": "bcf18bbf-6acd-4abd-9d7d-9caf7f25529a"
      },
      "execution_count": 51,
      "outputs": [
        {
          "output_type": "stream",
          "name": "stdout",
          "text": [
            "2\n"
          ]
        }
      ]
    },
    {
      "cell_type": "code",
      "source": [
        "preds = model.predict(test_ds)"
      ],
      "metadata": {
        "colab": {
          "base_uri": "https://localhost:8080/"
        },
        "id": "FrB3O10p88JQ",
        "outputId": "d71a8b70-2ac9-4777-ee70-0b639b2bca5d"
      },
      "execution_count": 52,
      "outputs": [
        {
          "output_type": "stream",
          "name": "stdout",
          "text": [
            "2/2 [==============================] - 6s 1s/step\n"
          ]
        }
      ]
    },
    {
      "cell_type": "code",
      "source": [
        "result = model.evaluate(test_ds)"
      ],
      "metadata": {
        "colab": {
          "base_uri": "https://localhost:8080/"
        },
        "id": "Y1w_C44V9Y1M",
        "outputId": "63be9dac-b6ff-4406-e587-68e214a39c70"
      },
      "execution_count": 53,
      "outputs": [
        {
          "output_type": "stream",
          "name": "stdout",
          "text": [
            "2/2 [==============================] - 4s 1s/step - loss: 0.4825 - accuracy: 0.8750\n"
          ]
        }
      ]
    },
    {
      "cell_type": "markdown",
      "source": [
        "{'loss': 0.48246458172798157, 'accuracy': 0.875}"
      ],
      "metadata": {
        "id": "ruixlkuG-C2i"
      }
    },
    {
      "cell_type": "code",
      "source": [
        "dict(zip(model.metrics_names, result))"
      ],
      "metadata": {
        "colab": {
          "base_uri": "https://localhost:8080/"
        },
        "id": "B8cJcwXv9fNv",
        "outputId": "e9d86bc1-a205-4ecb-f016-354e619868fa"
      },
      "execution_count": 54,
      "outputs": [
        {
          "output_type": "execute_result",
          "data": {
            "text/plain": [
              "{'loss': 0.48246458172798157, 'accuracy': 0.875}"
            ]
          },
          "metadata": {},
          "execution_count": 54
        }
      ]
    }
  ]
}